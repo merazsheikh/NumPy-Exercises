{
 "cells": [
  {
   "cell_type": "code",
   "execution_count": 1,
   "id": "16d90771",
   "metadata": {},
   "outputs": [],
   "source": [
    "import numpy as np"
   ]
  },
  {
   "cell_type": "code",
   "execution_count": 2,
   "id": "d032ceac",
   "metadata": {},
   "outputs": [
    {
     "name": "stdout",
     "output_type": "stream",
     "text": [
      "Requirement already satisfied: numpy in c:\\programdata\\anaconda3\\lib\\site-packages (1.20.3)\n",
      "Note: you may need to restart the kernel to use updated packages.\n"
     ]
    }
   ],
   "source": [
    "pip install numpy"
   ]
  },
  {
   "cell_type": "code",
   "execution_count": 1,
   "id": "50b49ddf",
   "metadata": {},
   "outputs": [
    {
     "name": "stdout",
     "output_type": "stream",
     "text": [
      "Collecting package metadata (current_repodata.json): ...working... done\n",
      "Solving environment: ...working... done\n",
      "\n",
      "# All requested packages already installed.\n",
      "\n",
      "\n",
      "Note: you may need to restart the kernel to use updated packages.\n"
     ]
    },
    {
     "name": "stderr",
     "output_type": "stream",
     "text": [
      "\n",
      "\n",
      "==> WARNING: A newer version of conda exists. <==\n",
      "  current version: 4.10.3\n",
      "  latest version: 24.9.1\n",
      "\n",
      "Please update conda by running\n",
      "\n",
      "    $ conda update -n base -c defaults conda\n",
      "\n",
      "\n"
     ]
    }
   ],
   "source": [
    "conda install numpy"
   ]
  },
  {
   "cell_type": "code",
   "execution_count": 4,
   "id": "05abad0d",
   "metadata": {},
   "outputs": [
    {
     "data": {
      "text/plain": [
       "[2, 4, 6, 8, 5, 4, 5, 2, 4]"
      ]
     },
     "execution_count": 4,
     "metadata": {},
     "output_type": "execute_result"
    }
   ],
   "source": [
    "# concatenation of two list\n",
    "a = [2,4,5,6,8]\n",
    "b = [5,4,5,2,4]\n",
    "a+b"
   ]
  },
  {
   "cell_type": "code",
   "execution_count": 6,
   "id": "541017d5",
   "metadata": {},
   "outputs": [
    {
     "data": {
      "text/plain": [
       "[7, 8, 10, 8, 12]"
      ]
     },
     "execution_count": 6,
     "metadata": {},
     "output_type": "execute_result"
    }
   ],
   "source": [
    "# Add two list\n",
    "# for loop\n",
    "# zip function is used\n",
    "a = [2,4,5,6,8]\n",
    "b = [5,4,5,2,4]\n",
    "result=[] \n",
    "for first,second in zip (a,b):\n",
    "    result.append(first+second)\n",
    "result"
   ]
  },
  {
   "cell_type": "code",
   "execution_count": 8,
   "id": "859843bd",
   "metadata": {},
   "outputs": [],
   "source": [
    "import numpy as np"
   ]
  },
  {
   "cell_type": "code",
   "execution_count": 9,
   "id": "1a34a145",
   "metadata": {},
   "outputs": [
    {
     "data": {
      "text/plain": [
       "array([ 7,  8, 10,  8, 12])"
      ]
     },
     "execution_count": 9,
     "metadata": {},
     "output_type": "execute_result"
    }
   ],
   "source": [
    "# add using numpy function\n",
    "# np.array([a,b,c,d])\n",
    "a=np.array([2,4,5,6,8])\n",
    "b=np.array([5,4,5,2,4])\n",
    "a+b"
   ]
  },
  {
   "cell_type": "code",
   "execution_count": 10,
   "id": "65483f6b",
   "metadata": {},
   "outputs": [
    {
     "data": {
      "text/plain": [
       "numpy.ndarray"
      ]
     },
     "execution_count": 10,
     "metadata": {},
     "output_type": "execute_result"
    }
   ],
   "source": [
    "# check type of Array\n",
    "a=np.array([2,4,5,6,8])\n",
    "type(a)"
   ]
  },
  {
   "cell_type": "code",
   "execution_count": 11,
   "id": "410c1734",
   "metadata": {},
   "outputs": [
    {
     "data": {
      "text/plain": [
       "dtype('int32')"
      ]
     },
     "execution_count": 11,
     "metadata": {},
     "output_type": "execute_result"
    }
   ],
   "source": [
    "# check data type and size in bits\n",
    "a.dtype"
   ]
  },
  {
   "cell_type": "code",
   "execution_count": 13,
   "id": "a73923bb",
   "metadata": {},
   "outputs": [
    {
     "data": {
      "text/plain": [
       "dtype('float64')"
      ]
     },
     "execution_count": 13,
     "metadata": {},
     "output_type": "execute_result"
    }
   ],
   "source": [
    "f=np.array([1.2,4.5,7.8,2.3])\n",
    "f.dtype"
   ]
  },
  {
   "cell_type": "code",
   "execution_count": 14,
   "id": "a427f390",
   "metadata": {},
   "outputs": [],
   "source": [
    "#little-endian"
   ]
  },
  {
   "cell_type": "code",
   "execution_count": 19,
   "id": "bcbff2fc",
   "metadata": {},
   "outputs": [
    {
     "data": {
      "text/plain": [
       "array([76, 34, 56, 87])"
      ]
     },
     "execution_count": 19,
     "metadata": {},
     "output_type": "execute_result"
    }
   ],
   "source": [
    "# Replace value in array using index no\n",
    "x=np.array([89,34,56,87])\n",
    "x[0]=76\n",
    "x"
   ]
  },
  {
   "cell_type": "code",
   "execution_count": 20,
   "id": "25d21969",
   "metadata": {},
   "outputs": [
    {
     "data": {
      "text/plain": [
       "array([76, 34, 23, 87])"
      ]
     },
     "execution_count": 20,
     "metadata": {},
     "output_type": "execute_result"
    }
   ],
   "source": [
    "# When we try replacing with float value\n",
    "# It won't work as data types are not similar\n",
    "x[2]=23.6\n",
    "x"
   ]
  },
  {
   "cell_type": "code",
   "execution_count": 21,
   "id": "2a74b95f",
   "metadata": {},
   "outputs": [
    {
     "data": {
      "text/plain": [
       "1"
      ]
     },
     "execution_count": 21,
     "metadata": {},
     "output_type": "execute_result"
    }
   ],
   "source": [
    "# to check dimension\n",
    "x.ndim"
   ]
  },
  {
   "cell_type": "code",
   "execution_count": 22,
   "id": "1c8adff3",
   "metadata": {},
   "outputs": [
    {
     "data": {
      "text/plain": [
       "(4,)"
      ]
     },
     "execution_count": 22,
     "metadata": {},
     "output_type": "execute_result"
    }
   ],
   "source": [
    "# to check the shape\n",
    "# it shows only 4 because it is one dimensional\n",
    "x.shape"
   ]
  },
  {
   "cell_type": "code",
   "execution_count": 23,
   "id": "af7a5dea",
   "metadata": {},
   "outputs": [
    {
     "data": {
      "text/plain": [
       "4"
      ]
     },
     "execution_count": 23,
     "metadata": {},
     "output_type": "execute_result"
    }
   ],
   "source": [
    "# shows 4 because it has 4 elements\n",
    "x.size"
   ]
  },
  {
   "cell_type": "code",
   "execution_count": 24,
   "id": "7866f8e6",
   "metadata": {},
   "outputs": [
    {
     "data": {
      "text/plain": [
       "5"
      ]
     },
     "execution_count": 24,
     "metadata": {},
     "output_type": "execute_result"
    }
   ],
   "source": [
    "# shows 5 as it has 5 elements\n",
    "x=np.array([89,34,56,87,90])\n",
    "x.size"
   ]
  },
  {
   "cell_type": "code",
   "execution_count": 43,
   "id": "596d190a",
   "metadata": {},
   "outputs": [
    {
     "ename": "NameError",
     "evalue": "name 'shape' is not defined",
     "output_type": "error",
     "traceback": [
      "\u001b[1;31m---------------------------------------------------------------------------\u001b[0m",
      "\u001b[1;31mNameError\u001b[0m                                 Traceback (most recent call last)",
      "\u001b[1;32m~\\AppData\\Local\\Temp/ipykernel_7220/2035298145.py\u001b[0m in \u001b[0;36m<module>\u001b[1;34m\u001b[0m\n\u001b[1;32m----> 1\u001b[1;33m \u001b[0mnp\u001b[0m\u001b[1;33m.\u001b[0m\u001b[0mones\u001b[0m\u001b[1;33m(\u001b[0m\u001b[0mshape\u001b[0m\u001b[1;33m,\u001b[0m \u001b[0mdtype\u001b[0m\u001b[1;33m=\u001b[0m\u001b[1;32mNone\u001b[0m\u001b[1;33m,\u001b[0m \u001b[0morder\u001b[0m \u001b[1;33m=\u001b[0m \u001b[1;34m'C'\u001b[0m\u001b[1;33m)\u001b[0m\u001b[1;33m\u001b[0m\u001b[1;33m\u001b[0m\u001b[0m\n\u001b[0m",
      "\u001b[1;31mNameError\u001b[0m: name 'shape' is not defined"
     ]
    }
   ],
   "source": [
    "np.ones(shape, dtype=None, order = 'C')"
   ]
  },
  {
   "cell_type": "code",
   "execution_count": 45,
   "id": "c8e12a2b",
   "metadata": {},
   "outputs": [
    {
     "ename": "TypeError",
     "evalue": "zeros() missing required argument 'shape' (pos 1)",
     "output_type": "error",
     "traceback": [
      "\u001b[1;31m---------------------------------------------------------------------------\u001b[0m",
      "\u001b[1;31mTypeError\u001b[0m                                 Traceback (most recent call last)",
      "\u001b[1;32m~\\AppData\\Local\\Temp/ipykernel_7220/3915420233.py\u001b[0m in \u001b[0;36m<module>\u001b[1;34m\u001b[0m\n\u001b[1;32m----> 1\u001b[1;33m \u001b[0mnp\u001b[0m\u001b[1;33m.\u001b[0m\u001b[0mzeros\u001b[0m\u001b[1;33m(\u001b[0m\u001b[1;33m)\u001b[0m\u001b[1;33m\u001b[0m\u001b[1;33m\u001b[0m\u001b[0m\n\u001b[0m\u001b[0;32m      2\u001b[0m \u001b[0mnp\u001b[0m\u001b[1;33m.\u001b[0m\u001b[0mempty\u001b[0m\u001b[1;33m(\u001b[0m\u001b[1;33m)\u001b[0m\u001b[1;33m\u001b[0m\u001b[1;33m\u001b[0m\u001b[0m\n",
      "\u001b[1;31mTypeError\u001b[0m: zeros() missing required argument 'shape' (pos 1)"
     ]
    }
   ],
   "source": [
    "np.zeros()\n",
    "np.empty()"
   ]
  },
  {
   "cell_type": "code",
   "execution_count": 30,
   "id": "7ddbe123",
   "metadata": {},
   "outputs": [
    {
     "data": {
      "text/plain": [
       "array([1., 1., 1., 1., 1.])"
      ]
     },
     "execution_count": 30,
     "metadata": {},
     "output_type": "execute_result"
    }
   ],
   "source": [
    "# create 5 shape 1D array of one elements\n",
    "arr1=np.ones(5,)\n",
    "arr1"
   ]
  },
  {
   "cell_type": "code",
   "execution_count": 42,
   "id": "0cc0b065",
   "metadata": {},
   "outputs": [
    {
     "data": {
      "text/plain": [
       "array([[1., 1.],\n",
       "       [1., 1.],\n",
       "       [1., 1.],\n",
       "       [1., 1.],\n",
       "       [1., 1.]])"
      ]
     },
     "execution_count": 42,
     "metadata": {},
     "output_type": "execute_result"
    }
   ],
   "source": [
    "# create 5 shape 2D array of one elements\n",
    "# np.ones([])--syntax\n",
    "arr1=np.ones([5,2])\n",
    "arr1"
   ]
  },
  {
   "cell_type": "code",
   "execution_count": 37,
   "id": "8ce344a2",
   "metadata": {},
   "outputs": [
    {
     "data": {
      "text/plain": [
       "array([[1., 1., 1., 1.],\n",
       "       [1., 1., 1., 1.],\n",
       "       [1., 1., 1., 1.],\n",
       "       [1., 1., 1., 1.]])"
      ]
     },
     "execution_count": 37,
     "metadata": {},
     "output_type": "execute_result"
    }
   ],
   "source": [
    "arr1=np.ones([4,4])\n",
    "arr1"
   ]
  },
  {
   "cell_type": "code",
   "execution_count": 53,
   "id": "5e8c56c1",
   "metadata": {},
   "outputs": [
    {
     "data": {
      "text/plain": [
       "array([[1.2],\n",
       "       [4.5],\n",
       "       [7.8],\n",
       "       [2.3]])"
      ]
     },
     "execution_count": 53,
     "metadata": {},
     "output_type": "execute_result"
    }
   ],
   "source": [
    "arr1=np.empty([4,1])\n",
    "arr1"
   ]
  },
  {
   "cell_type": "code",
   "execution_count": 55,
   "id": "5a1b2d62",
   "metadata": {},
   "outputs": [
    {
     "data": {
      "text/plain": [
       "array([0, 1, 2, 3, 4])"
      ]
     },
     "execution_count": 55,
     "metadata": {},
     "output_type": "execute_result"
    }
   ],
   "source": [
    "# put range in array as per the index no\n",
    "np.arange(5)"
   ]
  },
  {
   "cell_type": "code",
   "execution_count": 57,
   "id": "a80de738",
   "metadata": {},
   "outputs": [
    {
     "ename": "SyntaxError",
     "evalue": "cannot assign to function call (Temp/ipykernel_7220/4016264048.py, line 2)",
     "output_type": "error",
     "traceback": [
      "\u001b[1;36m  File \u001b[1;32m\"C:\\Users\\k2453542\\AppData\\Local\\Temp/ipykernel_7220/4016264048.py\"\u001b[1;36m, line \u001b[1;32m2\u001b[0m\n\u001b[1;33m    np.arange([start],stop,[step]),dtype=None,*,like=None\u001b[0m\n\u001b[1;37m    ^\u001b[0m\n\u001b[1;31mSyntaxError\u001b[0m\u001b[1;31m:\u001b[0m cannot assign to function call\n"
     ]
    }
   ],
   "source": [
    "# np.arange([start],stop,[step,]),dtype=None,*,like=None"
   ]
  },
  {
   "cell_type": "code",
   "execution_count": 58,
   "id": "924eb122",
   "metadata": {},
   "outputs": [
    {
     "data": {
      "text/plain": [
       "array([1, 3, 5, 7, 9])"
      ]
     },
     "execution_count": 58,
     "metadata": {},
     "output_type": "execute_result"
    }
   ],
   "source": [
    "# print according to start stop and step\n",
    "np.arange(1,10,2)"
   ]
  },
  {
   "cell_type": "code",
   "execution_count": 60,
   "id": "50169c0c",
   "metadata": {},
   "outputs": [
    {
     "data": {
      "text/plain": [
       "array([38,  7, 75, 60])"
      ]
     },
     "execution_count": 60,
     "metadata": {},
     "output_type": "execute_result"
    }
   ],
   "source": [
    "a=np.array([33,2,3,4])\n",
    "b=np.array([5,5,72,56])\n",
    "a+b"
   ]
  },
  {
   "cell_type": "code",
   "execution_count": 61,
   "id": "cbc20842",
   "metadata": {},
   "outputs": [
    {
     "data": {
      "text/plain": [
       "array([ 28,  -3, -69, -52])"
      ]
     },
     "execution_count": 61,
     "metadata": {},
     "output_type": "execute_result"
    }
   ],
   "source": [
    "a-b"
   ]
  },
  {
   "cell_type": "code",
   "execution_count": 62,
   "id": "4d71b0eb",
   "metadata": {},
   "outputs": [
    {
     "data": {
      "text/plain": [
       "array([165,  10, 216, 224])"
      ]
     },
     "execution_count": 62,
     "metadata": {},
     "output_type": "execute_result"
    }
   ],
   "source": [
    "a*b"
   ]
  },
  {
   "cell_type": "code",
   "execution_count": 63,
   "id": "5ed40b19",
   "metadata": {},
   "outputs": [
    {
     "data": {
      "text/plain": [
       "array([6.6       , 0.4       , 0.04166667, 0.07142857])"
      ]
     },
     "execution_count": 63,
     "metadata": {},
     "output_type": "execute_result"
    }
   ],
   "source": [
    "a/b"
   ]
  },
  {
   "cell_type": "code",
   "execution_count": 64,
   "id": "9adc3835",
   "metadata": {},
   "outputs": [
    {
     "data": {
      "text/plain": [
       "array([  39135393,         32, -919996767,          0], dtype=int32)"
      ]
     },
     "execution_count": 64,
     "metadata": {},
     "output_type": "execute_result"
    }
   ],
   "source": [
    "a**b"
   ]
  },
  {
   "cell_type": "code",
   "execution_count": 69,
   "id": "384eb91d",
   "metadata": {},
   "outputs": [
    {
     "data": {
      "text/plain": [
       "array([100, 135, 170, 205, 240])"
      ]
     },
     "execution_count": 69,
     "metadata": {},
     "output_type": "execute_result"
    }
   ],
   "source": [
    "# create two arrays each has 5 values, one starts at 100, other at ends at 255. \n",
    "# u decide how to get 5 values for array and add them using numpy\n",
    "a=np.arange(100,255,35)\n",
    "a"
   ]
  },
  {
   "cell_type": "code",
   "execution_count": 71,
   "id": "0566ebf4",
   "metadata": {},
   "outputs": [
    {
     "data": {
      "text/plain": [
       "array([[1, 2],\n",
       "       [7, 8]])"
      ]
     },
     "execution_count": 71,
     "metadata": {},
     "output_type": "execute_result"
    }
   ],
   "source": [
    "arr2=np.array([[1,2],[7,8]])\n",
    "arr2"
   ]
  },
  {
   "cell_type": "code",
   "execution_count": 73,
   "id": "e0557672",
   "metadata": {},
   "outputs": [
    {
     "data": {
      "text/plain": [
       "array([[1, 2, 3],\n",
       "       [5, 6, 8],\n",
       "       [9, 3, 4]])"
      ]
     },
     "execution_count": 73,
     "metadata": {},
     "output_type": "execute_result"
    }
   ],
   "source": [
    "arr3=np.array([[1,2,3],[5,6,8],[9,3,4]])\n",
    "arr3"
   ]
  },
  {
   "cell_type": "code",
   "execution_count": 74,
   "id": "9f14584f",
   "metadata": {},
   "outputs": [
    {
     "data": {
      "text/plain": [
       "array([[1, 2],\n",
       "       [7, 8]])"
      ]
     },
     "execution_count": 74,
     "metadata": {},
     "output_type": "execute_result"
    }
   ],
   "source": [
    "arr2"
   ]
  },
  {
   "cell_type": "code",
   "execution_count": 76,
   "id": "89fd5307",
   "metadata": {},
   "outputs": [
    {
     "data": {
      "text/plain": [
       "1"
      ]
     },
     "execution_count": 76,
     "metadata": {},
     "output_type": "execute_result"
    }
   ],
   "source": [
    "# print elements from 2 by 2 vector by index no\n",
    "arr2[0,0]"
   ]
  },
  {
   "cell_type": "code",
   "execution_count": 77,
   "id": "97a8154b",
   "metadata": {},
   "outputs": [
    {
     "data": {
      "text/plain": [
       "8"
      ]
     },
     "execution_count": 77,
     "metadata": {},
     "output_type": "execute_result"
    }
   ],
   "source": [
    "arr2[1,1]"
   ]
  },
  {
   "cell_type": "code",
   "execution_count": 79,
   "id": "74bf9be4",
   "metadata": {},
   "outputs": [
    {
     "data": {
      "text/plain": [
       "array([[1, 2],\n",
       "       [9, 8]])"
      ]
     },
     "execution_count": 79,
     "metadata": {},
     "output_type": "execute_result"
    }
   ],
   "source": [
    "# Replace value using index no\n",
    "arr2[1,0]=9\n",
    "arr2"
   ]
  },
  {
   "cell_type": "code",
   "execution_count": 81,
   "id": "7bebc5ac",
   "metadata": {},
   "outputs": [
    {
     "data": {
      "text/plain": [
       "array([[ 1,  2],\n",
       "       [55,  8]])"
      ]
     },
     "execution_count": 81,
     "metadata": {},
     "output_type": "execute_result"
    }
   ],
   "source": [
    "# We can't assign float as it is a different data type\n",
    "arr2[1,0]=55.67\n",
    "arr2"
   ]
  },
  {
   "cell_type": "code",
   "execution_count": 82,
   "id": "bddab0a4",
   "metadata": {},
   "outputs": [
    {
     "data": {
      "text/plain": [
       "array([1, 2])"
      ]
     },
     "execution_count": 82,
     "metadata": {},
     "output_type": "execute_result"
    }
   ],
   "source": [
    "# Print whole row at index 0\n",
    "arr2[0]"
   ]
  },
  {
   "cell_type": "code",
   "execution_count": 86,
   "id": "81bd9a07",
   "metadata": {},
   "outputs": [
    {
     "data": {
      "text/plain": [
       "array([7, 8, 9])"
      ]
     },
     "execution_count": 86,
     "metadata": {},
     "output_type": "execute_result"
    }
   ],
   "source": [
    "# Print whole index at index 2\n",
    "arr5=np.array([[1,2,3],\n",
    "               [4,5,6],\n",
    "               [7,8,9]])\n",
    "arr5[2]"
   ]
  },
  {
   "cell_type": "markdown",
   "id": "d5b2d271",
   "metadata": {},
   "source": [
    "# Slicing"
   ]
  },
  {
   "cell_type": "code",
   "execution_count": 87,
   "id": "ed5e9bf8",
   "metadata": {},
   "outputs": [],
   "source": [
    "# arr[lower:upper:step] -- syntax"
   ]
  },
  {
   "cell_type": "code",
   "execution_count": 88,
   "id": "2c0efb8f",
   "metadata": {},
   "outputs": [],
   "source": [
    "x=np.array([10,23,4,56,89,34,13])"
   ]
  },
  {
   "cell_type": "code",
   "execution_count": 89,
   "id": "0fd4d2de",
   "metadata": {},
   "outputs": [
    {
     "data": {
      "text/plain": [
       "array([23,  4])"
      ]
     },
     "execution_count": 89,
     "metadata": {},
     "output_type": "execute_result"
    }
   ],
   "source": [
    "# Print using slicing function\n",
    "# start from index 1 and end at 3\n",
    "# it doesn't print the upper limit, only prints lower limit and between\n",
    "x[1:3]"
   ]
  },
  {
   "cell_type": "code",
   "execution_count": 91,
   "id": "8d9e1aec",
   "metadata": {},
   "outputs": [
    {
     "data": {
      "text/plain": [
       "array([10, 23,  4, 56])"
      ]
     },
     "execution_count": 91,
     "metadata": {},
     "output_type": "execute_result"
    }
   ],
   "source": [
    "# it doesn't print the upper limit\n",
    "x[:-3]"
   ]
  },
  {
   "cell_type": "code",
   "execution_count": 92,
   "id": "d9079fcc",
   "metadata": {},
   "outputs": [
    {
     "data": {
      "text/plain": [
       "array([56, 89, 34, 13])"
      ]
     },
     "execution_count": 92,
     "metadata": {},
     "output_type": "execute_result"
    }
   ],
   "source": [
    "# Print everything after index 3\n",
    "x[3:]"
   ]
  },
  {
   "cell_type": "code",
   "execution_count": 93,
   "id": "1cd71660",
   "metadata": {},
   "outputs": [
    {
     "data": {
      "text/plain": [
       "array([10,  4, 89, 13])"
      ]
     },
     "execution_count": 93,
     "metadata": {},
     "output_type": "execute_result"
    }
   ],
   "source": [
    "# Print everything start to end with two step\n",
    "x[::2]"
   ]
  },
  {
   "cell_type": "code",
   "execution_count": 95,
   "id": "e89d1814",
   "metadata": {},
   "outputs": [
    {
     "data": {
      "text/plain": [
       "array([44, 66, 55, 88, 44, 55])"
      ]
     },
     "execution_count": 95,
     "metadata": {},
     "output_type": "execute_result"
    }
   ],
   "source": [
    "# SLice using arrslice function\n",
    "arrslice = np.array([44,55,66,55,55,77,88,55,44,66,55,])\n",
    "y = arrslice[0:12:2]\n",
    "y"
   ]
  },
  {
   "cell_type": "code",
   "execution_count": 101,
   "id": "9dc94e4d",
   "metadata": {},
   "outputs": [
    {
     "data": {
      "text/plain": [
       "array([4, 5, 6, 7])"
      ]
     },
     "execution_count": 101,
     "metadata": {},
     "output_type": "execute_result"
    }
   ],
   "source": [
    "# Slice from index 4 from end to index 1 from end\n",
    "arrslice = np.array([1,2,3,4,5,6,7])\n",
    "z = arrslice[-4:]\n",
    "z"
   ]
  },
  {
   "cell_type": "code",
   "execution_count": 102,
   "id": "9b736f6d",
   "metadata": {},
   "outputs": [],
   "source": [
    "# Slicing from 3D Array\n",
    "# row is first index\n",
    "# col is second index\n",
    "arr=np.array([[1,2,3],\n",
    "              [4,5,6],\n",
    "              [7,8,9]])"
   ]
  },
  {
   "cell_type": "code",
   "execution_count": 103,
   "id": "406eb5be",
   "metadata": {},
   "outputs": [
    {
     "data": {
      "text/plain": [
       "array([[5, 6],\n",
       "       [8, 9]])"
      ]
     },
     "execution_count": 103,
     "metadata": {},
     "output_type": "execute_result"
    }
   ],
   "source": [
    "arr[1:,1:]"
   ]
  },
  {
   "cell_type": "code",
   "execution_count": 109,
   "id": "8ef19f1a",
   "metadata": {},
   "outputs": [
    {
     "data": {
      "text/plain": [
       "array([[4],\n",
       "       [7]])"
      ]
     },
     "execution_count": 109,
     "metadata": {},
     "output_type": "execute_result"
    }
   ],
   "source": [
    "arr[1:,0:1]"
   ]
  },
  {
   "cell_type": "code",
   "execution_count": 116,
   "id": "f6287795",
   "metadata": {},
   "outputs": [
    {
     "data": {
      "text/plain": [
       "array([ 0,  1,  2,  3,  4,  5,  6,  7,  8,  9, 10])"
      ]
     },
     "execution_count": 116,
     "metadata": {},
     "output_type": "execute_result"
    }
   ],
   "source": [
    "# EXERCISE 1\n",
    "np.arange(0,11)"
   ]
  },
  {
   "cell_type": "code",
   "execution_count": 117,
   "id": "32fc6494",
   "metadata": {},
   "outputs": [
    {
     "data": {
      "text/plain": [
       "numpy.ndarray"
      ]
     },
     "execution_count": 117,
     "metadata": {},
     "output_type": "execute_result"
    }
   ],
   "source": [
    "# print data type\n",
    "type(np.arange(0,11))"
   ]
  },
  {
   "cell_type": "code",
   "execution_count": 124,
   "id": "a295d4ab",
   "metadata": {},
   "outputs": [
    {
     "ename": "SyntaxError",
     "evalue": "cannot assign to function call (Temp/ipykernel_7220/3937735597.py, line 2)",
     "output_type": "error",
     "traceback": [
      "\u001b[1;36m  File \u001b[1;32m\"C:\\Users\\k2453542\\AppData\\Local\\Temp/ipykernel_7220/3937735597.py\"\u001b[1;36m, line \u001b[1;32m2\u001b[0m\n\u001b[1;33m    a=np.arange(0,11),dtype=float, close=None\u001b[0m\n\u001b[1;37m      ^\u001b[0m\n\u001b[1;31mSyntaxError\u001b[0m\u001b[1;31m:\u001b[0m cannot assign to function call\n"
     ]
    }
   ],
   "source": [
    "# change dtype to float\n",
    "a=np.arange(0,11),dtype=float, close=None"
   ]
  },
  {
   "cell_type": "code",
   "execution_count": 132,
   "id": "dd9ca46b",
   "metadata": {},
   "outputs": [
    {
     "data": {
      "text/plain": [
       "array([1, 3, 5, 7, 9])"
      ]
     },
     "execution_count": 132,
     "metadata": {},
     "output_type": "execute_result"
    }
   ],
   "source": [
    "# Exercise 2 - extract odd numbers\n",
    "arr= np.array([0,1,2,3,4,5,6,7,8,9])\n",
    "arr[1::2]\n"
   ]
  },
  {
   "cell_type": "code",
   "execution_count": 133,
   "id": "5caf56a7",
   "metadata": {},
   "outputs": [
    {
     "data": {
      "text/plain": [
       "array([21, 22, 23, 21, 23])"
      ]
     },
     "execution_count": 133,
     "metadata": {},
     "output_type": "execute_result"
    }
   ],
   "source": [
    "# Keep original and create a copy and make changes in new file\n",
    "a = np.array([21,22,23,21,23])\n",
    "b=a\n",
    "c=np.copy(a)\n",
    "c"
   ]
  },
  {
   "cell_type": "code",
   "execution_count": 135,
   "id": "6d044d13",
   "metadata": {},
   "outputs": [
    {
     "data": {
      "text/plain": [
       "array([21, 90, 23, 21, 23])"
      ]
     },
     "execution_count": 135,
     "metadata": {},
     "output_type": "execute_result"
    }
   ],
   "source": [
    "a[1]=90\n",
    "a"
   ]
  },
  {
   "cell_type": "code",
   "execution_count": 136,
   "id": "e9f5bf3d",
   "metadata": {},
   "outputs": [
    {
     "data": {
      "text/plain": [
       "array([21, 90, 23, 21, 23])"
      ]
     },
     "execution_count": 136,
     "metadata": {},
     "output_type": "execute_result"
    }
   ],
   "source": [
    "b"
   ]
  },
  {
   "cell_type": "code",
   "execution_count": 137,
   "id": "629d7715",
   "metadata": {},
   "outputs": [
    {
     "data": {
      "text/plain": [
       "array([21, 22, 23, 21, 23])"
      ]
     },
     "execution_count": 137,
     "metadata": {},
     "output_type": "execute_result"
    }
   ],
   "source": [
    "c"
   ]
  },
  {
   "cell_type": "code",
   "execution_count": 138,
   "id": "6fa56f75",
   "metadata": {},
   "outputs": [],
   "source": [
    "# Sorting\n",
    "sample_array=np.array([2,0,5,1,9,6,5,3,7,4,6,8])"
   ]
  },
  {
   "cell_type": "code",
   "execution_count": 139,
   "id": "2996f2b6",
   "metadata": {},
   "outputs": [
    {
     "data": {
      "text/plain": [
       "array([9, 8, 7, 6, 6, 5, 5, 4, 3, 2, 1, 0])"
      ]
     },
     "execution_count": 139,
     "metadata": {},
     "output_type": "execute_result"
    }
   ],
   "source": [
    "# Sort in descending order\n",
    "np.sort(sample_array)[::-1]"
   ]
  },
  {
   "cell_type": "code",
   "execution_count": 140,
   "id": "19773d3c",
   "metadata": {},
   "outputs": [
    {
     "data": {
      "text/plain": [
       "array([0, 1, 2, 3, 4, 5, 5, 6, 6, 7, 8, 9])"
      ]
     },
     "execution_count": 140,
     "metadata": {},
     "output_type": "execute_result"
    }
   ],
   "source": [
    "# Sort in ascending order\n",
    "np.sort(sample_array)"
   ]
  },
  {
   "cell_type": "code",
   "execution_count": 142,
   "id": "4795e428",
   "metadata": {},
   "outputs": [
    {
     "data": {
      "text/plain": [
       "array([ 0,  1,  2,  3,  4,  5,  6,  7,  8,  9, 10, 11, 12, 13, 14])"
      ]
     },
     "execution_count": 142,
     "metadata": {},
     "output_type": "execute_result"
    }
   ],
   "source": [
    "sample_array = np.arange(15)\n",
    "sample_array"
   ]
  },
  {
   "cell_type": "code",
   "execution_count": 143,
   "id": "2b968435",
   "metadata": {},
   "outputs": [
    {
     "data": {
      "text/plain": [
       "array([[ 0,  1,  2,  3,  4],\n",
       "       [ 5,  6,  7,  8,  9],\n",
       "       [10, 11, 12, 13, 14]])"
      ]
     },
     "execution_count": 143,
     "metadata": {},
     "output_type": "execute_result"
    }
   ],
   "source": [
    "# Shape 1d to 3d using reshape function\n",
    "reshaped_array = sample_array.reshape(3,5)\n",
    "reshaped_array"
   ]
  },
  {
   "cell_type": "code",
   "execution_count": 145,
   "id": "9504749c",
   "metadata": {},
   "outputs": [
    {
     "data": {
      "text/plain": [
       "array([[ 0,  5, 10],\n",
       "       [ 1,  6, 11],\n",
       "       [ 2,  7, 12],\n",
       "       [ 3,  8, 13],\n",
       "       [ 4,  9, 14]])"
      ]
     },
     "execution_count": 145,
     "metadata": {},
     "output_type": "execute_result"
    }
   ],
   "source": [
    "# Transposing matrices using transpose function i.e row to col, col to row\n",
    "reshaped_array.transpose()"
   ]
  },
  {
   "cell_type": "code",
   "execution_count": 147,
   "id": "d78035e8",
   "metadata": {},
   "outputs": [
    {
     "data": {
      "text/plain": [
       "array([14, 13, 12, 11, 10,  9,  8,  7,  6,  5,  4,  3,  2,  1,  0])"
      ]
     },
     "execution_count": 147,
     "metadata": {},
     "output_type": "execute_result"
    }
   ],
   "source": [
    "reversed_array1 = np.flip(sample_array)\n",
    "reversed_array1"
   ]
  },
  {
   "cell_type": "code",
   "execution_count": 150,
   "id": "631362dd",
   "metadata": {},
   "outputs": [
    {
     "data": {
      "text/plain": [
       "array([[12, 11, 10,  9],\n",
       "       [ 8,  7,  6,  5],\n",
       "       [ 4,  3,  2,  1]])"
      ]
     },
     "execution_count": 150,
     "metadata": {},
     "output_type": "execute_result"
    }
   ],
   "source": [
    "# Flip rows\n",
    "sample_2darray = np.array([[1,2,3,4],[5,6,7,8],[9,10,11,12]])\n",
    "reversed_2darray = np.flip(sample_2darray)\n",
    "reversed_2darray"
   ]
  },
  {
   "cell_type": "code",
   "execution_count": 152,
   "id": "ff26b9c3",
   "metadata": {},
   "outputs": [
    {
     "data": {
      "text/plain": [
       "array([[ 9, 10, 11, 12],\n",
       "       [ 5,  6,  7,  8],\n",
       "       [ 1,  2,  3,  4]])"
      ]
     },
     "execution_count": 152,
     "metadata": {},
     "output_type": "execute_result"
    }
   ],
   "source": [
    "# Flip vertically\n",
    "reversed_2darray1 = np.flip(sample_2darray, axis=0)\n",
    "reversed_2darray1"
   ]
  },
  {
   "cell_type": "code",
   "execution_count": 154,
   "id": "385c5033",
   "metadata": {},
   "outputs": [
    {
     "data": {
      "text/plain": [
       "array([1, 2, 3, 4])"
      ]
     },
     "execution_count": 154,
     "metadata": {},
     "output_type": "execute_result"
    }
   ],
   "source": [
    "# go back after reshape\n",
    "a=np.array([[1,2],[3,4]])\n",
    "a.flatten()"
   ]
  },
  {
   "cell_type": "code",
   "execution_count": null,
   "id": "f12ae383",
   "metadata": {},
   "outputs": [],
   "source": []
  }
 ],
 "metadata": {
  "kernelspec": {
   "display_name": "Python 3 (ipykernel)",
   "language": "python",
   "name": "python3"
  },
  "language_info": {
   "codemirror_mode": {
    "name": "ipython",
    "version": 3
   },
   "file_extension": ".py",
   "mimetype": "text/x-python",
   "name": "python",
   "nbconvert_exporter": "python",
   "pygments_lexer": "ipython3",
   "version": "3.9.7"
  }
 },
 "nbformat": 4,
 "nbformat_minor": 5
}
